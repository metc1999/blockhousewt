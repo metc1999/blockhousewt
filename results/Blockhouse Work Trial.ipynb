{
 "cells": [
  {
   "cell_type": "markdown",
   "id": "e170cf72",
   "metadata": {},
   "source": [
    "### Blockhouse Work Trial Task: Cross-Impact Analysis of Order Flow Imbalance (OFI)"
   ]
  },
  {
   "cell_type": "markdown",
   "id": "c1486bbd",
   "metadata": {},
   "source": [
    "**By Essa Chawla**"
   ]
  },
  {
   "cell_type": "markdown",
   "id": "f46a2357",
   "metadata": {},
   "source": [
    "**Summary**"
   ]
  },
  {
   "cell_type": "markdown",
   "id": "ac7603c5",
   "metadata": {},
   "source": [
    "In this analysis, I investigated the relationship between Order Flow Imbalance (OFI) and price changes in equity markets, focusing on both immediate and lagged effects. Using multi-level OFI metrics and Principal Component Analysis (PCA), I derived an Integrated OFI metric that efficiently represents order flow dynamics. Regression models were applied to assess the contemporaneous and predictive impact of OFI on price changes, revealing that while OFI explains 41% of the variance in real-time price movements, its lagged features have minimal predictive power. Visualizations such as correlation heatmaps, scatter plots, and coefficient bar charts illustrated these findings, and a summary table captured key metrics for individual stocks. This work highlights OFI’s utility for real-time analysis but underscores the need for additional features and advanced methods to improve future price predictions."
   ]
  },
  {
   "cell_type": "markdown",
   "id": "3470a688",
   "metadata": {},
   "source": [
    "**Introduction**"
   ]
  },
  {
   "cell_type": "markdown",
   "id": "f92ef8a3",
   "metadata": {},
   "source": [
    "The objective of this analysis is to investigate the relationship between Order Flow Imbalance (OFI) and price changes in equity markets, focusing on both contemporaneous and lagged effects. By computing multi-level OFI metrics and integrating them using Principal Component Analysis (PCA), the study aims to uncover how imbalances in order flow influence immediate price movements and predict future price changes. Through regression modeling, we assess the explanatory power of OFI for price dynamics across multiple stocks, differentiating between self-impact (within the same stock) and cross-impact (across stocks). This analysis seeks to provide insights into the role of OFI in market behavior, identifying its limitations and potential as a real-time and predictive tool for understanding price changes."
   ]
  },
  {
   "cell_type": "code",
   "execution_count": 240,
   "id": "361aed52",
   "metadata": {},
   "outputs": [],
   "source": [
    "import pandas as pd\n",
    "import numpy as np\n",
    "from sklearn.decomposition import PCA\n",
    "from sklearn.linear_model import LinearRegression\n",
    "import matplotlib.pyplot as plt\n",
    "import seaborn as sns\n"
   ]
  },
  {
   "cell_type": "code",
   "execution_count": 241,
   "id": "a4219d0e",
   "metadata": {},
   "outputs": [],
   "source": [
    "data = pd.read_csv('xnas-itch-20241204.mbp-10.csv')"
   ]
  },
  {
   "cell_type": "code",
   "execution_count": 242,
   "id": "31716ada",
   "metadata": {},
   "outputs": [],
   "source": [
    "data=data.dropna()"
   ]
  },
  {
   "cell_type": "code",
   "execution_count": 243,
   "id": "a5b63e61",
   "metadata": {},
   "outputs": [
    {
     "data": {
      "text/html": [
       "<div>\n",
       "<style scoped>\n",
       "    .dataframe tbody tr th:only-of-type {\n",
       "        vertical-align: middle;\n",
       "    }\n",
       "\n",
       "    .dataframe tbody tr th {\n",
       "        vertical-align: top;\n",
       "    }\n",
       "\n",
       "    .dataframe thead th {\n",
       "        text-align: right;\n",
       "    }\n",
       "</style>\n",
       "<table border=\"1\" class=\"dataframe\">\n",
       "  <thead>\n",
       "    <tr style=\"text-align: right;\">\n",
       "      <th></th>\n",
       "      <th>ts_recv</th>\n",
       "      <th>ts_event</th>\n",
       "      <th>rtype</th>\n",
       "      <th>publisher_id</th>\n",
       "      <th>instrument_id</th>\n",
       "      <th>action</th>\n",
       "      <th>side</th>\n",
       "      <th>depth</th>\n",
       "      <th>price</th>\n",
       "      <th>size</th>\n",
       "      <th>...</th>\n",
       "      <th>ask_sz_08</th>\n",
       "      <th>bid_ct_08</th>\n",
       "      <th>ask_ct_08</th>\n",
       "      <th>bid_px_09</th>\n",
       "      <th>ask_px_09</th>\n",
       "      <th>bid_sz_09</th>\n",
       "      <th>ask_sz_09</th>\n",
       "      <th>bid_ct_09</th>\n",
       "      <th>ask_ct_09</th>\n",
       "      <th>symbol</th>\n",
       "    </tr>\n",
       "  </thead>\n",
       "  <tbody>\n",
       "    <tr>\n",
       "      <th>57</th>\n",
       "      <td>2024-12-04T09:00:15.246494486Z</td>\n",
       "      <td>2024-12-04T09:00:15.246327990Z</td>\n",
       "      <td>10</td>\n",
       "      <td>2</td>\n",
       "      <td>14993</td>\n",
       "      <td>A</td>\n",
       "      <td>A</td>\n",
       "      <td>2</td>\n",
       "      <td>9.08</td>\n",
       "      <td>100</td>\n",
       "      <td>...</td>\n",
       "      <td>85</td>\n",
       "      <td>1</td>\n",
       "      <td>1</td>\n",
       "      <td>7.10</td>\n",
       "      <td>10.92</td>\n",
       "      <td>100</td>\n",
       "      <td>10</td>\n",
       "      <td>1</td>\n",
       "      <td>1</td>\n",
       "      <td>SOUN</td>\n",
       "    </tr>\n",
       "    <tr>\n",
       "      <th>58</th>\n",
       "      <td>2024-12-04T09:00:15.300993527Z</td>\n",
       "      <td>2024-12-04T09:00:15.300826981Z</td>\n",
       "      <td>10</td>\n",
       "      <td>2</td>\n",
       "      <td>14993</td>\n",
       "      <td>A</td>\n",
       "      <td>A</td>\n",
       "      <td>1</td>\n",
       "      <td>9.02</td>\n",
       "      <td>600</td>\n",
       "      <td>...</td>\n",
       "      <td>20</td>\n",
       "      <td>1</td>\n",
       "      <td>1</td>\n",
       "      <td>7.10</td>\n",
       "      <td>10.50</td>\n",
       "      <td>100</td>\n",
       "      <td>85</td>\n",
       "      <td>1</td>\n",
       "      <td>1</td>\n",
       "      <td>SOUN</td>\n",
       "    </tr>\n",
       "    <tr>\n",
       "      <th>64</th>\n",
       "      <td>2024-12-04T09:00:16.808270522Z</td>\n",
       "      <td>2024-12-04T09:00:16.808104221Z</td>\n",
       "      <td>10</td>\n",
       "      <td>2</td>\n",
       "      <td>14993</td>\n",
       "      <td>A</td>\n",
       "      <td>A</td>\n",
       "      <td>6</td>\n",
       "      <td>9.40</td>\n",
       "      <td>90</td>\n",
       "      <td>...</td>\n",
       "      <td>100</td>\n",
       "      <td>1</td>\n",
       "      <td>1</td>\n",
       "      <td>7.10</td>\n",
       "      <td>10.10</td>\n",
       "      <td>100</td>\n",
       "      <td>20</td>\n",
       "      <td>1</td>\n",
       "      <td>1</td>\n",
       "      <td>SOUN</td>\n",
       "    </tr>\n",
       "    <tr>\n",
       "      <th>66</th>\n",
       "      <td>2024-12-04T09:00:17.136110191Z</td>\n",
       "      <td>2024-12-04T09:00:17.135944055Z</td>\n",
       "      <td>10</td>\n",
       "      <td>2</td>\n",
       "      <td>14993</td>\n",
       "      <td>A</td>\n",
       "      <td>A</td>\n",
       "      <td>1</td>\n",
       "      <td>8.99</td>\n",
       "      <td>500</td>\n",
       "      <td>...</td>\n",
       "      <td>10</td>\n",
       "      <td>1</td>\n",
       "      <td>1</td>\n",
       "      <td>7.10</td>\n",
       "      <td>9.58</td>\n",
       "      <td>100</td>\n",
       "      <td>100</td>\n",
       "      <td>1</td>\n",
       "      <td>1</td>\n",
       "      <td>SOUN</td>\n",
       "    </tr>\n",
       "    <tr>\n",
       "      <th>69</th>\n",
       "      <td>2024-12-04T09:00:17.387692713Z</td>\n",
       "      <td>2024-12-04T09:00:17.387525913Z</td>\n",
       "      <td>10</td>\n",
       "      <td>2</td>\n",
       "      <td>14993</td>\n",
       "      <td>A</td>\n",
       "      <td>B</td>\n",
       "      <td>6</td>\n",
       "      <td>8.40</td>\n",
       "      <td>100</td>\n",
       "      <td>...</td>\n",
       "      <td>10</td>\n",
       "      <td>1</td>\n",
       "      <td>1</td>\n",
       "      <td>7.93</td>\n",
       "      <td>9.58</td>\n",
       "      <td>400</td>\n",
       "      <td>100</td>\n",
       "      <td>1</td>\n",
       "      <td>1</td>\n",
       "      <td>SOUN</td>\n",
       "    </tr>\n",
       "    <tr>\n",
       "      <th>...</th>\n",
       "      <td>...</td>\n",
       "      <td>...</td>\n",
       "      <td>...</td>\n",
       "      <td>...</td>\n",
       "      <td>...</td>\n",
       "      <td>...</td>\n",
       "      <td>...</td>\n",
       "      <td>...</td>\n",
       "      <td>...</td>\n",
       "      <td>...</td>\n",
       "      <td>...</td>\n",
       "      <td>...</td>\n",
       "      <td>...</td>\n",
       "      <td>...</td>\n",
       "      <td>...</td>\n",
       "      <td>...</td>\n",
       "      <td>...</td>\n",
       "      <td>...</td>\n",
       "      <td>...</td>\n",
       "      <td>...</td>\n",
       "      <td>...</td>\n",
       "    </tr>\n",
       "    <tr>\n",
       "      <th>1290433</th>\n",
       "      <td>2024-12-04T23:59:11.252248937Z</td>\n",
       "      <td>2024-12-04T23:59:11.252082659Z</td>\n",
       "      <td>10</td>\n",
       "      <td>2</td>\n",
       "      <td>10238</td>\n",
       "      <td>C</td>\n",
       "      <td>A</td>\n",
       "      <td>0</td>\n",
       "      <td>26.04</td>\n",
       "      <td>100</td>\n",
       "      <td>...</td>\n",
       "      <td>1630</td>\n",
       "      <td>1</td>\n",
       "      <td>3</td>\n",
       "      <td>25.81</td>\n",
       "      <td>26.17</td>\n",
       "      <td>10</td>\n",
       "      <td>210</td>\n",
       "      <td>1</td>\n",
       "      <td>2</td>\n",
       "      <td>MARA</td>\n",
       "    </tr>\n",
       "    <tr>\n",
       "      <th>1290434</th>\n",
       "      <td>2024-12-04T23:59:11.253939733Z</td>\n",
       "      <td>2024-12-04T23:59:11.253773349Z</td>\n",
       "      <td>10</td>\n",
       "      <td>2</td>\n",
       "      <td>10238</td>\n",
       "      <td>A</td>\n",
       "      <td>A</td>\n",
       "      <td>0</td>\n",
       "      <td>26.02</td>\n",
       "      <td>100</td>\n",
       "      <td>...</td>\n",
       "      <td>1433</td>\n",
       "      <td>1</td>\n",
       "      <td>7</td>\n",
       "      <td>25.81</td>\n",
       "      <td>26.16</td>\n",
       "      <td>10</td>\n",
       "      <td>1630</td>\n",
       "      <td>1</td>\n",
       "      <td>3</td>\n",
       "      <td>MARA</td>\n",
       "    </tr>\n",
       "    <tr>\n",
       "      <th>1290435</th>\n",
       "      <td>2024-12-04T23:59:13.886019266Z</td>\n",
       "      <td>2024-12-04T23:59:13.885851175Z</td>\n",
       "      <td>10</td>\n",
       "      <td>2</td>\n",
       "      <td>10238</td>\n",
       "      <td>T</td>\n",
       "      <td>B</td>\n",
       "      <td>0</td>\n",
       "      <td>26.02</td>\n",
       "      <td>100</td>\n",
       "      <td>...</td>\n",
       "      <td>1433</td>\n",
       "      <td>1</td>\n",
       "      <td>7</td>\n",
       "      <td>25.81</td>\n",
       "      <td>26.16</td>\n",
       "      <td>10</td>\n",
       "      <td>1630</td>\n",
       "      <td>1</td>\n",
       "      <td>3</td>\n",
       "      <td>MARA</td>\n",
       "    </tr>\n",
       "    <tr>\n",
       "      <th>1290436</th>\n",
       "      <td>2024-12-04T23:59:13.886019266Z</td>\n",
       "      <td>2024-12-04T23:59:13.885851175Z</td>\n",
       "      <td>10</td>\n",
       "      <td>2</td>\n",
       "      <td>10238</td>\n",
       "      <td>C</td>\n",
       "      <td>A</td>\n",
       "      <td>0</td>\n",
       "      <td>26.02</td>\n",
       "      <td>100</td>\n",
       "      <td>...</td>\n",
       "      <td>1630</td>\n",
       "      <td>1</td>\n",
       "      <td>3</td>\n",
       "      <td>25.81</td>\n",
       "      <td>26.17</td>\n",
       "      <td>10</td>\n",
       "      <td>210</td>\n",
       "      <td>1</td>\n",
       "      <td>2</td>\n",
       "      <td>MARA</td>\n",
       "    </tr>\n",
       "    <tr>\n",
       "      <th>1290437</th>\n",
       "      <td>2024-12-04T23:59:15.438292763Z</td>\n",
       "      <td>2024-12-04T23:59:15.438126439Z</td>\n",
       "      <td>10</td>\n",
       "      <td>2</td>\n",
       "      <td>10238</td>\n",
       "      <td>C</td>\n",
       "      <td>A</td>\n",
       "      <td>0</td>\n",
       "      <td>26.07</td>\n",
       "      <td>100</td>\n",
       "      <td>...</td>\n",
       "      <td>1630</td>\n",
       "      <td>1</td>\n",
       "      <td>3</td>\n",
       "      <td>25.81</td>\n",
       "      <td>26.17</td>\n",
       "      <td>10</td>\n",
       "      <td>210</td>\n",
       "      <td>1</td>\n",
       "      <td>2</td>\n",
       "      <td>MARA</td>\n",
       "    </tr>\n",
       "  </tbody>\n",
       "</table>\n",
       "<p>1289328 rows × 74 columns</p>\n",
       "</div>"
      ],
      "text/plain": [
       "                                ts_recv                        ts_event  \\\n",
       "57       2024-12-04T09:00:15.246494486Z  2024-12-04T09:00:15.246327990Z   \n",
       "58       2024-12-04T09:00:15.300993527Z  2024-12-04T09:00:15.300826981Z   \n",
       "64       2024-12-04T09:00:16.808270522Z  2024-12-04T09:00:16.808104221Z   \n",
       "66       2024-12-04T09:00:17.136110191Z  2024-12-04T09:00:17.135944055Z   \n",
       "69       2024-12-04T09:00:17.387692713Z  2024-12-04T09:00:17.387525913Z   \n",
       "...                                 ...                             ...   \n",
       "1290433  2024-12-04T23:59:11.252248937Z  2024-12-04T23:59:11.252082659Z   \n",
       "1290434  2024-12-04T23:59:11.253939733Z  2024-12-04T23:59:11.253773349Z   \n",
       "1290435  2024-12-04T23:59:13.886019266Z  2024-12-04T23:59:13.885851175Z   \n",
       "1290436  2024-12-04T23:59:13.886019266Z  2024-12-04T23:59:13.885851175Z   \n",
       "1290437  2024-12-04T23:59:15.438292763Z  2024-12-04T23:59:15.438126439Z   \n",
       "\n",
       "         rtype  publisher_id  instrument_id action side  depth  price  size  \\\n",
       "57          10             2          14993      A    A      2   9.08   100   \n",
       "58          10             2          14993      A    A      1   9.02   600   \n",
       "64          10             2          14993      A    A      6   9.40    90   \n",
       "66          10             2          14993      A    A      1   8.99   500   \n",
       "69          10             2          14993      A    B      6   8.40   100   \n",
       "...        ...           ...            ...    ...  ...    ...    ...   ...   \n",
       "1290433     10             2          10238      C    A      0  26.04   100   \n",
       "1290434     10             2          10238      A    A      0  26.02   100   \n",
       "1290435     10             2          10238      T    B      0  26.02   100   \n",
       "1290436     10             2          10238      C    A      0  26.02   100   \n",
       "1290437     10             2          10238      C    A      0  26.07   100   \n",
       "\n",
       "         ...  ask_sz_08  bid_ct_08  ask_ct_08  bid_px_09  ask_px_09  \\\n",
       "57       ...         85          1          1       7.10      10.92   \n",
       "58       ...         20          1          1       7.10      10.50   \n",
       "64       ...        100          1          1       7.10      10.10   \n",
       "66       ...         10          1          1       7.10       9.58   \n",
       "69       ...         10          1          1       7.93       9.58   \n",
       "...      ...        ...        ...        ...        ...        ...   \n",
       "1290433  ...       1630          1          3      25.81      26.17   \n",
       "1290434  ...       1433          1          7      25.81      26.16   \n",
       "1290435  ...       1433          1          7      25.81      26.16   \n",
       "1290436  ...       1630          1          3      25.81      26.17   \n",
       "1290437  ...       1630          1          3      25.81      26.17   \n",
       "\n",
       "         bid_sz_09  ask_sz_09  bid_ct_09  ask_ct_09  symbol  \n",
       "57             100         10          1          1    SOUN  \n",
       "58             100         85          1          1    SOUN  \n",
       "64             100         20          1          1    SOUN  \n",
       "66             100        100          1          1    SOUN  \n",
       "69             400        100          1          1    SOUN  \n",
       "...            ...        ...        ...        ...     ...  \n",
       "1290433         10        210          1          2    MARA  \n",
       "1290434         10       1630          1          3    MARA  \n",
       "1290435         10       1630          1          3    MARA  \n",
       "1290436         10        210          1          2    MARA  \n",
       "1290437         10        210          1          2    MARA  \n",
       "\n",
       "[1289328 rows x 74 columns]"
      ]
     },
     "execution_count": 243,
     "metadata": {},
     "output_type": "execute_result"
    }
   ],
   "source": [
    "data"
   ]
  },
  {
   "cell_type": "markdown",
   "id": "d12a561f",
   "metadata": {},
   "source": [
    "**Compute OFI Metrics**"
   ]
  },
  {
   "cell_type": "markdown",
   "id": "96a9550e",
   "metadata": {},
   "source": [
    "The Order Flow Imbalance (OFI) metrics capture the dynamics between bid and ask volumes at multiple levels of the order book. For this analysis, we computed OFI metrics for up to 5 levels by evaluating changes in bid and ask prices and sizes over time. The choice of 5 levels aligns with common practices in high-frequency trading studies, ensuring a granular understanding of liquidity and market depth. To condense these multi-level metrics into a single explanatory variable, Principal Component Analysis (PCA) was applied. PCA was chosen because it efficiently reduces dimensionality while preserving the most relevant variability across the levels, as highlighted in the referenced methodologies."
   ]
  },
  {
   "cell_type": "code",
   "execution_count": 244,
   "id": "ae27d2a0",
   "metadata": {},
   "outputs": [
    {
     "name": "stdout",
     "output_type": "stream",
     "text": [
      "OFI metrics computed and saved successfully!\n"
     ]
    },
    {
     "data": {
      "text/html": [
       "<div>\n",
       "<style scoped>\n",
       "    .dataframe tbody tr th:only-of-type {\n",
       "        vertical-align: middle;\n",
       "    }\n",
       "\n",
       "    .dataframe tbody tr th {\n",
       "        vertical-align: top;\n",
       "    }\n",
       "\n",
       "    .dataframe thead th {\n",
       "        text-align: right;\n",
       "    }\n",
       "</style>\n",
       "<table border=\"1\" class=\"dataframe\">\n",
       "  <thead>\n",
       "    <tr style=\"text-align: right;\">\n",
       "      <th></th>\n",
       "      <th>OFI_level_1</th>\n",
       "      <th>OFI_level_2</th>\n",
       "      <th>OFI_level_3</th>\n",
       "      <th>OFI_level_4</th>\n",
       "      <th>OFI_level_5</th>\n",
       "    </tr>\n",
       "  </thead>\n",
       "  <tbody>\n",
       "    <tr>\n",
       "      <th>0</th>\n",
       "      <td>-0.191314</td>\n",
       "      <td>-0.114984</td>\n",
       "      <td>-0.115338</td>\n",
       "      <td>-0.160754</td>\n",
       "      <td>-0.004368</td>\n",
       "    </tr>\n",
       "    <tr>\n",
       "      <th>1</th>\n",
       "      <td>-0.114788</td>\n",
       "      <td>-0.095820</td>\n",
       "      <td>-0.019223</td>\n",
       "      <td>-0.084608</td>\n",
       "      <td>-0.099281</td>\n",
       "    </tr>\n",
       "    <tr>\n",
       "      <th>2</th>\n",
       "      <td>0.000000</td>\n",
       "      <td>0.000000</td>\n",
       "      <td>0.000000</td>\n",
       "      <td>0.000000</td>\n",
       "      <td>0.000000</td>\n",
       "    </tr>\n",
       "    <tr>\n",
       "      <th>3</th>\n",
       "      <td>-0.095657</td>\n",
       "      <td>-0.114984</td>\n",
       "      <td>-0.096115</td>\n",
       "      <td>-0.016922</td>\n",
       "      <td>-0.099281</td>\n",
       "    </tr>\n",
       "    <tr>\n",
       "      <th>4</th>\n",
       "      <td>0.000000</td>\n",
       "      <td>0.000000</td>\n",
       "      <td>0.000000</td>\n",
       "      <td>0.000000</td>\n",
       "      <td>0.000000</td>\n",
       "    </tr>\n",
       "    <tr>\n",
       "      <th>...</th>\n",
       "      <td>...</td>\n",
       "      <td>...</td>\n",
       "      <td>...</td>\n",
       "      <td>...</td>\n",
       "      <td>...</td>\n",
       "    </tr>\n",
       "    <tr>\n",
       "      <th>1289323</th>\n",
       "      <td>0.074612</td>\n",
       "      <td>0.034878</td>\n",
       "      <td>0.079583</td>\n",
       "      <td>0.036381</td>\n",
       "      <td>0.020253</td>\n",
       "    </tr>\n",
       "    <tr>\n",
       "      <th>1289324</th>\n",
       "      <td>-0.229576</td>\n",
       "      <td>-0.074740</td>\n",
       "      <td>-0.034986</td>\n",
       "      <td>-0.070055</td>\n",
       "      <td>-0.042691</td>\n",
       "    </tr>\n",
       "    <tr>\n",
       "      <th>1289325</th>\n",
       "      <td>0.000000</td>\n",
       "      <td>0.000000</td>\n",
       "      <td>0.000000</td>\n",
       "      <td>0.000000</td>\n",
       "      <td>0.000000</td>\n",
       "    </tr>\n",
       "    <tr>\n",
       "      <th>1289326</th>\n",
       "      <td>0.074612</td>\n",
       "      <td>0.034878</td>\n",
       "      <td>0.079583</td>\n",
       "      <td>0.036381</td>\n",
       "      <td>0.020253</td>\n",
       "    </tr>\n",
       "    <tr>\n",
       "      <th>1289327</th>\n",
       "      <td>0.000000</td>\n",
       "      <td>0.000000</td>\n",
       "      <td>0.000000</td>\n",
       "      <td>0.000000</td>\n",
       "      <td>0.000000</td>\n",
       "    </tr>\n",
       "  </tbody>\n",
       "</table>\n",
       "<p>1289328 rows × 5 columns</p>\n",
       "</div>"
      ],
      "text/plain": [
       "         OFI_level_1  OFI_level_2  OFI_level_3  OFI_level_4  OFI_level_5\n",
       "0          -0.191314    -0.114984    -0.115338    -0.160754    -0.004368\n",
       "1          -0.114788    -0.095820    -0.019223    -0.084608    -0.099281\n",
       "2           0.000000     0.000000     0.000000     0.000000     0.000000\n",
       "3          -0.095657    -0.114984    -0.096115    -0.016922    -0.099281\n",
       "4           0.000000     0.000000     0.000000     0.000000     0.000000\n",
       "...              ...          ...          ...          ...          ...\n",
       "1289323     0.074612     0.034878     0.079583     0.036381     0.020253\n",
       "1289324    -0.229576    -0.074740    -0.034986    -0.070055    -0.042691\n",
       "1289325     0.000000     0.000000     0.000000     0.000000     0.000000\n",
       "1289326     0.074612     0.034878     0.079583     0.036381     0.020253\n",
       "1289327     0.000000     0.000000     0.000000     0.000000     0.000000\n",
       "\n",
       "[1289328 rows x 5 columns]"
      ]
     },
     "execution_count": 244,
     "metadata": {},
     "output_type": "execute_result"
    }
   ],
   "source": [
    "def compute_ofi(level, data):\n",
    "    bid_flow = np.where(\n",
    "        data[f'bid_px_0{level}'] > data[f'bid_px_0{level}'].shift(1),\n",
    "        data[f'bid_sz_0{level}'],\n",
    "        np.where(\n",
    "            data[f'bid_px_0{level}'] == data[f'bid_px_0{level}'].shift(1),\n",
    "            data[f'bid_sz_0{level}'] - data[f'bid_sz_0{level}'].shift(1),\n",
    "            -data[f'bid_sz_0{level}']\n",
    "        )\n",
    "    )\n",
    "\n",
    "    ask_flow = np.where(\n",
    "        data[f'ask_px_0{level}'] > data[f'ask_px_0{level}'].shift(1),\n",
    "        -data[f'ask_sz_0{level}'],\n",
    "        np.where(\n",
    "            data[f'ask_px_0{level}'] == data[f'ask_px_0{level}'].shift(1),\n",
    "            data[f'ask_sz_0{level}'] - data[f'ask_sz_0{level}'].shift(1),\n",
    "            data[f'ask_sz_0{level}']\n",
    "        )\n",
    "    )\n",
    "\n",
    "    return bid_flow - ask_flow\n",
    "\n",
    "# Compute OFI for levels 1 to 5\n",
    "levels = [1, 2, 3, 4, 5]\n",
    "ofi_data = pd.DataFrame()\n",
    "\n",
    "for level in levels:\n",
    "    ofi_data[f'OFI_level_{level}'] = compute_ofi(level, data)\n",
    "\n",
    "# Normalize OFIs to handle different scales\n",
    "ofi_data = ofi_data.div(ofi_data.abs().mean(axis=0), axis=1)\n",
    "\n",
    "# Save the DataFrame to the default file path\n",
    "ofi_data.to_csv('ofi_metrics.csv', index=False)\n",
    "\n",
    "\n",
    "print(\"OFI metrics computed and saved successfully!\")\n",
    "\n",
    "ofi_data"
   ]
  },
  {
   "cell_type": "code",
   "execution_count": 245,
   "id": "8b4f00c1",
   "metadata": {},
   "outputs": [],
   "source": [
    "pca = PCA(n_components=1)\n",
    "ofi_data['Integrated_OFI'] = pca.fit_transform(ofi_data)\n",
    "\n",
    "\n",
    "# Merge Integrated OFI back into the main dataset\n",
    "data = pd.concat([data.reset_index(drop=True), ofi_data['Integrated_OFI'].reset_index(drop=True)], axis=1)\n",
    "\n"
   ]
  },
  {
   "cell_type": "markdown",
   "id": "dd88578e",
   "metadata": {},
   "source": [
    "This approach captures the essence of market microstructure, where OFI serves as a proxy for supply-demand imbalances. Dimensionality reduction using PCA simplifies further analyses by consolidating multi-level OFIs into a single Integrated OFI metric, ensuring computational efficiency and interpretability."
   ]
  },
  {
   "cell_type": "markdown",
   "id": "2482b282",
   "metadata": {},
   "source": [
    "**Analyze Cross-Impact**"
   ]
  },
  {
   "cell_type": "markdown",
   "id": "7e68f095",
   "metadata": {},
   "source": [
    "We examined the contemporaneous and lagged impacts of Integrated OFI on price changes. For contemporaneous analysis, we used linear regression to study the immediate effect of OFI on short-term price fluctuations. For lagged analysis, we introduced lagged features (1-minute and 5-minute horizons) to evaluate the predictive power of past OFI on future price changes. These models were applied to each stock individually to account for self-impact. The methodological foundation for this part lies in studies that highlight the relevance of lagged variables in capturing market participant reactions and delayed price adjustments."
   ]
  },
  {
   "cell_type": "code",
   "execution_count": 246,
   "id": "383bc074",
   "metadata": {},
   "outputs": [],
   "source": [
    "data['price_change'] = data['bid_px_01'].diff()\n",
    "\n",
    "stocks = data['symbol'].unique()\n",
    "contemporaneous_results = {}\n",
    "\n",
    "for stock in stocks:\n",
    "    stock_data = data[data['symbol'] == stock]\n",
    "    X = stock_data['Integrated_OFI'].values.reshape(-1, 1)\n",
    "    y = stock_data['price_change'].values\n",
    "\n",
    "    # Drop NaN values from X and y\n",
    "    valid_indices = ~np.isnan(y)\n",
    "    X = X[valid_indices]\n",
    "    y = y[valid_indices]\n",
    "\n",
    "    if len(X) > 1 and len(y) > 1:  # Ensure valid data\n",
    "        model = LinearRegression().fit(X, y)\n",
    "        contemporaneous_results[stock] = {\n",
    "            'coef': model.coef_[0],\n",
    "            'intercept': model.intercept_,\n",
    "            'r_squared': model.score(X, y)\n",
    "        }\n",
    "\n",
    "\n"
   ]
  },
  {
   "cell_type": "code",
   "execution_count": 247,
   "id": "53b211f2",
   "metadata": {},
   "outputs": [
    {
     "name": "stdout",
     "output_type": "stream",
     "text": [
      "Lagged Regression Results:\n",
      "  Stock  Coef_Lag1  Coef_Lag5  Intercept  R_squared\n",
      "0  SOUN  -0.015154  -0.005873  11.341050   0.002539\n",
      "1  MARA   0.010826   0.007396  24.178211   0.002137\n",
      "2  LCID  -0.009087   0.000915   8.934555   0.003603\n",
      "3   QSI  -0.012638  -0.001929   5.632676   0.001333\n",
      "4  KITT  -0.009413  -0.006469   5.997349   0.000828\n",
      "5  NITO  -0.016823  -0.000796   6.133865   0.000887\n",
      "Results computed and saved successfully!\n"
     ]
    }
   ],
   "source": [
    "# Add lagged OFI features and future price change\n",
    "data['Integrated_OFI_lag1'] = data['Integrated_OFI'].shift(1)\n",
    "data['Integrated_OFI_lag5'] = data['Integrated_OFI'].shift(5)\n",
    "data['future_price_change'] = data['bid_px_01'].shift(-1)\n",
    "\n",
    "lagged_results = {}\n",
    "\n",
    "# Perform regression for each stock\n",
    "for stock in stocks:\n",
    "    stock_data = data[data['symbol'] == stock]\n",
    "\n",
    "    # Select lagged OFI features and the target variable\n",
    "    X = stock_data[['Integrated_OFI_lag1', 'Integrated_OFI_lag5']]\n",
    "    y = stock_data['future_price_change']\n",
    "\n",
    "    # Drop rows with NaN values in either X or y\n",
    "    combined = pd.concat([X, y], axis=1).dropna()\n",
    "    X = combined[['Integrated_OFI_lag1', 'Integrated_OFI_lag5']]\n",
    "    y = combined['future_price_change']\n",
    "\n",
    "    if len(X) > 1 and len(y) > 1:  # Ensure valid data\n",
    "        model = LinearRegression().fit(X, y)\n",
    "        lagged_results[stock] = {\n",
    "            'coef': model.coef_,\n",
    "            'intercept': model.intercept_,\n",
    "            'R²': model.score(X, y)\n",
    "        }\n",
    "\n",
    "# Convert the lagged regression results into a DataFrame and print them\n",
    "results_list = []\n",
    "for stock, results in lagged_results.items():\n",
    "    entry = {\n",
    "        'Stock': stock,\n",
    "        'Coef_Lag1': results['coef'][0],\n",
    "        'Coef_Lag5': results['coef'][1],\n",
    "        'Intercept': results['intercept'],\n",
    "        'R_squared': results['R²']\n",
    "    }\n",
    "    results_list.append(entry)\n",
    "\n",
    "# Create a DataFrame from the results list\n",
    "results_df = pd.DataFrame(results_list)\n",
    "\n",
    "# Print the results\n",
    "print(\"Lagged Regression Results:\")\n",
    "print(results_df)\n",
    "\n",
    "# Save the results to a CSV file\n",
    "results_df.to_csv('Lagged_Regression_Results.csv', index=False)\n",
    "\n",
    "print(\"Results computed and saved successfully!\")\n"
   ]
  },
  {
   "cell_type": "markdown",
   "id": "f2b0d3ce",
   "metadata": {},
   "source": [
    "The regression results for lagged OFI features indicate weak explanatory power for predicting future price changes across all stocks, as reflected by the low  R² values (ranging from 0.0008 for KITT to 0.0036 for LCID). The coefficients for the 1-period and 5-period lagged OFI vary in magnitude and direction across stocks, with some showing positive relationships (e.g., MARA with coefficients of 0.0108 and 0.0074) and others negative (e.g., NITO with coefficients of -0.0168 and -0.0008). The intercepts, which represent the average future price change when lagged OFI is zero, are positive across all stocks, indicating baseline price increases independent of OFI. These findings suggest that lagged OFI has minimal predictive power for future price changes, with additional factors likely playing a more significant role in driving price dynamics."
   ]
  },
  {
   "cell_type": "markdown",
   "id": "5c9c5d8c",
   "metadata": {},
   "source": [
    "The use of contemporaneous regression helps establish a baseline understanding of the direct impact of OFI on prices. Introducing lagged features aligns with econometric principles, capturing potential delays in market responses and enabling the exploration of predictive relationships. This methodology reflects a structured approach to quantifying both immediate and delayed effects of order flow imbalances."
   ]
  },
  {
   "cell_type": "markdown",
   "id": "10086322",
   "metadata": {},
   "source": [
    "**Quantify Results**"
   ]
  },
  {
   "cell_type": "markdown",
   "id": "1ab498f0",
   "metadata": {},
   "source": [
    "The explanatory power of OFI was assessed using R² from the regression models, both for contemporaneous and lagged impacts. We compared self-impact (within the same stock) and cross-impact (influences across stocks) by analyzing how well OFI explained price movements. This quantitative assessment is essential to validate the efficacy of the Integrated OFI metric and to differentiate its impact across various stocks."
   ]
  },
  {
   "cell_type": "code",
   "execution_count": 248,
   "id": "81479f5a",
   "metadata": {},
   "outputs": [
    {
     "name": "stdout",
     "output_type": "stream",
     "text": [
      "Average Self-Impact R²: 0.41067881091988706\n",
      "Average Lagged Impact R²: 0.0018878301449601713\n"
     ]
    }
   ],
   "source": [
    "self_impact_r2 = [result['r_squared'] for result in contemporaneous_results.values()]\n",
    "lagged_impact_r2 = [result['R²'] for result in lagged_results.values()]\n",
    "\n",
    "\n",
    "print(f\"Average Self-Impact R²: {np.mean(self_impact_r2)}\")\n",
    "print(f\"Average Lagged Impact R²: {np.mean(lagged_impact_r2)}\")\n",
    "\n"
   ]
  },
  {
   "cell_type": "markdown",
   "id": "20ee3730",
   "metadata": {},
   "source": [
    "The Average Self-Impact R² of 0.41 indicates that Order Flow Imbalance (OFI) explains 41% of the variance in contemporaneous price changes within the same stock, highlighting a strong immediate relationship between OFI and price movements. In contrast, the Average Lagged Impact R² of 0.0019 suggests that lagged OFI (1-minute and 5-minute lags) has negligible predictive power for future price changes, accounting for less than 0.2% of the variance. This stark difference implies that while OFI is a meaningful indicator for real-time price dynamics, its utility for forecasting future price changes is minimal, likely due to the influence of other market factors."
   ]
  },
  {
   "cell_type": "markdown",
   "id": "1b5698e5",
   "metadata": {},
   "source": [
    "Quantifying results using R² provides an objective measure of model performance, offering insights into the strength of relationships between OFI and price changes. The distinction between self- and cross-impact follows established market microstructure research, highlighting the need to identify stock-specific behaviors versus broader market dynamics."
   ]
  },
  {
   "cell_type": "markdown",
   "id": "fabd0177",
   "metadata": {},
   "source": [
    "**Visualization and Reporting**"
   ]
  },
  {
   "cell_type": "markdown",
   "id": "50166a92",
   "metadata": {},
   "source": [
    "To illustrate the relationships uncovered, we created visualizations such as correlation heatmaps, scatter plots, and bar charts. The heatmap highlights relationships among variables like OFI and price changes, while scatter plots show the direct connection between OFI and short-term price movements. Bar charts summarize the contemporaneous and lagged regression coefficients for each stock. A concise summary table was also generated to report key findings, including \n",
    "R² values for each stock."
   ]
  },
  {
   "cell_type": "code",
   "execution_count": 249,
   "id": "2781d2c7",
   "metadata": {},
   "outputs": [
    {
     "data": {
      "image/png": "[encoded data removed]",
      "text/plain": [
       "<Figure size 1000x800 with 2 Axes>"
      ]
     },
     "metadata": {},
     "output_type": "display_data"
    }
   ],
   "source": [
    "numeric_data = data[['Integrated_OFI', 'price_change', 'Integrated_OFI_lag1', 'Integrated_OFI_lag5']].dropna()\n",
    "plt.figure(figsize=(10, 8))\n",
    "sns.heatmap(numeric_data.corr(), annot=True, cmap=\"coolwarm\")\n",
    "plt.title(\"Correlation Heatmap\")\n",
    "plt.show()\n",
    "plt.savefig('correlation_heatmap.png')\n",
    "plt.close()\n"
   ]
  },
  {
   "cell_type": "markdown",
   "id": "df8acb1a",
   "metadata": {},
   "source": [
    "The heatmap shows the relationships between Integrated OFI, price changes, and lagged OFI features. There is a moderate positive correlation (0.36) between Integrated OFI and price changes, indicating that higher OFI values are somewhat associated with same-direction price movements. However, the lagged OFI features show weak correlations with both current price changes (e.g., -0.19 for Integrated_OFI_lag1) and the main OFI metric, suggesting limited predictive power over future price changes. Overall, while OFI has some explanatory power for immediate price dynamics, its influence diminishes over longer time horizons."
   ]
  },
  {
   "cell_type": "code",
   "execution_count": 250,
   "id": "ec77bf98",
   "metadata": {},
   "outputs": [
    {
     "data": {
      "image/png": "[encoded data removed]",
      "text/plain": [
       "<Figure size 800x600 with 1 Axes>"
      ]
     },
     "metadata": {},
     "output_type": "display_data"
    }
   ],
   "source": [
    "plt.figure(figsize=(8, 6))\n",
    "plt.scatter(data['Integrated_OFI'], data['price_change'], alpha=0.5)\n",
    "plt.title(\"Integrated OFI vs Price Change\")\n",
    "plt.xlabel(\"Integrated OFI\")\n",
    "plt.ylabel(\"Price Change\")\n",
    "plt.show()\n",
    "plt.savefig('integratedofivspricechnage.png')\n",
    "plt.close()\n"
   ]
  },
  {
   "cell_type": "markdown",
   "id": "1498a1ac",
   "metadata": {},
   "source": [
    "This scatter plot shows the relationship between Integrated OFI (x-axis) and Price Change (y-axis). The points are spread across the plot, indicating that there is no strong linear relationship between the two variables. While there are some clusters of data points near zero on both axes, suggesting that small OFI values are often associated with small price changes, there is significant variation for larger OFI values. This suggests that although Integrated OFI has some influence on price changes, other factors likely play a significant role, and the relationship is not purely deterministic."
   ]
  },
  {
   "cell_type": "code",
   "execution_count": 251,
   "id": "12cbd6ed",
   "metadata": {},
   "outputs": [
    {
     "data": {
      "image/png": "[encoded data removed]",
      "text/plain": [
       "<Figure size 1000x600 with 1 Axes>"
      ]
     },
     "metadata": {},
     "output_type": "display_data"
    }
   ],
   "source": [
    "coefs = [result['coef'] for result in contemporaneous_results.values()]\n",
    "plt.figure(figsize=(10, 6))\n",
    "plt.bar(stocks, coefs)\n",
    "plt.xlabel(\"Stock\")\n",
    "plt.ylabel(\"Coefficient\")\n",
    "plt.title(\"Contemporaneous Impact Coefficients\")\n",
    "plt.xticks(rotation=90)\n",
    "plt.show()\n",
    "plt.savefig('contemporaneous_coefficents.png')\n",
    "plt.close()"
   ]
  },
  {
   "cell_type": "code",
   "execution_count": 252,
   "id": "2c45de46",
   "metadata": {},
   "outputs": [
    {
     "name": "stdout",
     "output_type": "stream",
     "text": [
      "Summary saved to analysis_summary.csv.\n"
     ]
    }
   ],
   "source": [
    "summary = pd.DataFrame({\n",
    "    'Stock': list(contemporaneous_results.keys()),\n",
    "    'Contemporaneous R²': [result['r_squared'] for result in contemporaneous_results.values()],\n",
    "    'Lagged R²': [result['R²'] for result in lagged_results.values()]\n",
    "})\n",
    "summary.to_csv(\"analysis_summary.csv\", index=False)\n",
    "print(\"Summary saved to analysis_summary.csv.\")\n"
   ]
  },
  {
   "cell_type": "code",
   "execution_count": 253,
   "id": "779fb3df",
   "metadata": {},
   "outputs": [
    {
     "data": {
      "text/html": [
       "<div>\n",
       "<style scoped>\n",
       "    .dataframe tbody tr th:only-of-type {\n",
       "        vertical-align: middle;\n",
       "    }\n",
       "\n",
       "    .dataframe tbody tr th {\n",
       "        vertical-align: top;\n",
       "    }\n",
       "\n",
       "    .dataframe thead th {\n",
       "        text-align: right;\n",
       "    }\n",
       "</style>\n",
       "<table border=\"1\" class=\"dataframe\">\n",
       "  <thead>\n",
       "    <tr style=\"text-align: right;\">\n",
       "      <th></th>\n",
       "      <th>Stock</th>\n",
       "      <th>Contemporaneous R²</th>\n",
       "      <th>Lagged R²</th>\n",
       "    </tr>\n",
       "  </thead>\n",
       "  <tbody>\n",
       "    <tr>\n",
       "      <th>0</th>\n",
       "      <td>SOUN</td>\n",
       "      <td>0.455264</td>\n",
       "      <td>0.002539</td>\n",
       "    </tr>\n",
       "    <tr>\n",
       "      <th>1</th>\n",
       "      <td>MARA</td>\n",
       "      <td>0.427259</td>\n",
       "      <td>0.002137</td>\n",
       "    </tr>\n",
       "    <tr>\n",
       "      <th>2</th>\n",
       "      <td>LCID</td>\n",
       "      <td>0.481602</td>\n",
       "      <td>0.003603</td>\n",
       "    </tr>\n",
       "    <tr>\n",
       "      <th>3</th>\n",
       "      <td>QSI</td>\n",
       "      <td>0.400443</td>\n",
       "      <td>0.001333</td>\n",
       "    </tr>\n",
       "    <tr>\n",
       "      <th>4</th>\n",
       "      <td>KITT</td>\n",
       "      <td>0.276625</td>\n",
       "      <td>0.000828</td>\n",
       "    </tr>\n",
       "    <tr>\n",
       "      <th>5</th>\n",
       "      <td>NITO</td>\n",
       "      <td>0.422881</td>\n",
       "      <td>0.000887</td>\n",
       "    </tr>\n",
       "  </tbody>\n",
       "</table>\n",
       "</div>"
      ],
      "text/plain": [
       "  Stock  Contemporaneous R²  Lagged R²\n",
       "0  SOUN            0.455264   0.002539\n",
       "1  MARA            0.427259   0.002137\n",
       "2  LCID            0.481602   0.003603\n",
       "3   QSI            0.400443   0.001333\n",
       "4  KITT            0.276625   0.000828\n",
       "5  NITO            0.422881   0.000887"
      ]
     },
     "execution_count": 253,
     "metadata": {},
     "output_type": "execute_result"
    }
   ],
   "source": [
    "summary"
   ]
  },
  {
   "cell_type": "markdown",
   "id": "4719b089",
   "metadata": {},
   "source": [
    "The table shows that Integrated OFI has moderate explanatory power for contemporaneous price changes, with \n",
    "R² values ranging from 0.276 (KITT) to 0.481 (LCID), indicating varying levels of dependence across stocks. However, lagged models have extremely low R² values, from 0.0008 to 0.0036, suggesting that lagged OFI features provide minimal predictive power for future price changes. Notably, LCID exhibits the highest R² for both contemporaneous and lagged models, while KITT shows the weakest performance overall. These results highlight that while Integrated OFI is useful for real-time analysis, additional factors may be needed to enhance its predictive capabilities for future movements."
   ]
  },
  {
   "cell_type": "markdown",
   "id": "67726eba",
   "metadata": {},
   "source": [
    "**Next Steps**"
   ]
  },
  {
   "cell_type": "markdown",
   "id": "b4261bc4",
   "metadata": {},
   "source": [
    "The next steps involve incorporating additional features such as trading volume, volatility, and liquidity measures to enhance the models and explore interactions with Integrated OFI for capturing complex market dynamics. Refining lagged models by testing alternative time horizons and applying advanced methods like time-series analysis or machine learning can improve predictive accuracy. Cross-stock impacts should be examined to assess whether OFI in one stock influences price changes in others, alongside segmenting the data by market conditions (e.g., high vs. low volatility) to identify variations in OFI behavior. Finally, quantifying statistical robustness, visualizing cross-impact dynamics, and documenting actionable insights will provide a comprehensive understanding of OFI’s role in price movements and its applications in trading strategies or risk management."
   ]
  },
  {
   "cell_type": "markdown",
   "id": "0ed5be09",
   "metadata": {},
   "source": [
    "**Bonus Steps**"
   ]
  },
  {
   "cell_type": "markdown",
   "id": "98054ec7",
   "metadata": {},
   "source": [
    "**Investigate whether combining OFI with other features improves prediction accuracy.**"
   ]
  },
  {
   "cell_type": "markdown",
   "id": "16c2a4d7",
   "metadata": {},
   "source": [
    "We enhanced the predictive power of Order Flow Imbalance (OFI) by adding features like trading volume, volatility, and liquidity, which capture market activity and price dynamics. After cleaning the data, we used a regression model to see if these features, combined with OFI, improved the prediction of price changes. This helped us explore whether broader market factors make OFI a better tool for understanding price movements."
   ]
  },
  {
   "cell_type": "code",
   "execution_count": 254,
   "id": "5ad0743a",
   "metadata": {},
   "outputs": [
    {
     "name": "stdout",
     "output_type": "stream",
     "text": [
      "R² with additional features: 0.17050850105503967\n"
     ]
    }
   ],
   "source": [
    "data['trading_volume'] = data['bid_sz_01'] + data['ask_sz_01']\n",
    "data['volatility'] = data['price_change'].rolling(window=10).std()\n",
    "data['liquidity'] = data['ask_sz_01'] / (data['bid_sz_01'] + data['ask_sz_01'])\n",
    "features = ['Integrated_OFI', 'Integrated_OFI_lag1', 'Integrated_OFI_lag5', 'trading_volume', 'volatility', 'liquidity']\n",
    "X = data[features]\n",
    "y = data['price_change']\n",
    "\n",
    "# Combine and drop missing values consistently\n",
    "combined = pd.concat([X, y], axis=1).dropna()\n",
    "X = combined[features]\n",
    "y = combined['price_change']\n",
    "\n",
    "# Fit the regression model\n",
    "model = LinearRegression().fit(X, y)\n",
    "print(f\"R² with additional features: {model.score(X, y)}\")\n"
   ]
  },
  {
   "cell_type": "markdown",
   "id": "2c1be999",
   "metadata": {},
   "source": [
    "The R² value of 0.17 means that the model explains about 17% of the variance in price changes using the features provided, including OFI, trading volume, volatility, and liquidity. While this indicates that the model captures some relationship between the predictors and price changes, the relatively low value suggests that other factors not included in the model play a significant role in driving price changes. It highlights the need for additional features or more complex models to improve predictive accuracy."
   ]
  },
  {
   "cell_type": "markdown",
   "id": "0a2f9c6c",
   "metadata": {},
   "source": [
    "**Sources:**"
   ]
  },
  {
   "cell_type": "markdown",
   "id": "640914f1",
   "metadata": {},
   "source": [
    "Rama Cont, Mihai Cucuringu & Chao Zhang (2023) Cross-impact of order flow imbalance in equity markets, Quantitative Finance, 23:10, 1373-1393, DOI: 10.1080/14697688.2023.2236159"
   ]
  }
 ],
 "metadata": {
  "kernelspec": {
   "display_name": "Python 3 (ipykernel)",
   "language": "python",
   "name": "python3"
  },
  "language_info": {
   "codemirror_mode": {
    "name": "ipython",
    "version": 3
   },
   "file_extension": ".py",
   "mimetype": "text/x-python",
   "name": "python",
   "nbconvert_exporter": "python",
   "pygments_lexer": "ipython3",
   "version": "3.11.3"
  }
 },
 "nbformat": 4,
 "nbformat_minor": 5
}
